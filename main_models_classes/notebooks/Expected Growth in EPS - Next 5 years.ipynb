{
 "cells": [
  {
   "cell_type": "code",
   "execution_count": 1,
   "metadata": {},
   "outputs": [],
   "source": [
    "import pandas as pd\n"
   ]
  },
  {
   "cell_type": "code",
   "execution_count": 2,
   "metadata": {},
   "outputs": [
    {
     "data": {
      "text/plain": [
       "Index(['Industry Name', 'Number of Firms', 'CAGR in Net Income- Last 5 years',\n",
       "       'CAGR in Revenues- Last 5 years',\n",
       "       'Expected Growth in Revenues - Next 2 years',\n",
       "       'Expected growth in Revenues - Next 5 years',\n",
       "       'Expected Growth in EPS - Next 5 years', 'Unnamed: 7', 'Unnamed: 8',\n",
       "       'Unnamed: 9'],\n",
       "      dtype='object')"
      ]
     },
     "execution_count": 2,
     "metadata": {},
     "output_type": "execute_result"
    }
   ],
   "source": [
    "#data engineering \n",
    "df = pd.read_csv('/home/mohammad/Desktop/CHIC/main_models_classes/datasets/Expected Growth in EPS - Next 5 years.csv')  \n",
    "columns = df.columns  \n",
    "columns "
   ]
  },
  {
   "cell_type": "code",
   "execution_count": 3,
   "metadata": {},
   "outputs": [],
   "source": [
    "last_2_cols = columns[-2:]  \n",
    "first_col = columns[0]  \n",
    "#delete the first column and the last two columns \n",
    "df = df.drop([first_col], axis=1) \n",
    "df = df.drop(last_2_cols, axis=1) \n",
    "#save the new data frame \n",
    "df.to_csv('/home/mohammad/Desktop/CHIC/main_models_classes/datasets/Expected Growth in EPS - Next 5 years.csv', index=False)"
   ]
  },
  {
   "cell_type": "code",
   "execution_count": 6,
   "metadata": {},
   "outputs": [],
   "source": [
    "#check the new data frame \n",
    "df = pd.read_csv('/home/mohammad/Desktop/CHIC/main_models_classes/datasets/Expected Growth in EPS - Next 5 years.csv')   \n",
    "columns = df.columns \n",
    "first_col = columns[0] \n",
    "last_col = columns[-1]  \n",
    "df.drop([first_col], axis=1, inplace=True) \n",
    "df.drop([last_col], axis=1, inplace=True) \n",
    "df.to_csv('/home/mohammad/Desktop/CHIC/main_models_classes/datasets/Expected Growth in EPS - Next 5 years.csv', index=False)"
   ]
  },
  {
   "cell_type": "code",
   "execution_count": 7,
   "metadata": {},
   "outputs": [],
   "source": [
    "df = pd.read_csv('/home/mohammad/Desktop/CHIC/main_models_classes/datasets/Expected Growth in EPS - Next 5 years.csv') \n",
    "columns = df.columns \n",
    "df.drop(columns[-2:], axis=1, inplace=True)"
   ]
  },
  {
   "cell_type": "code",
   "execution_count": 8,
   "metadata": {},
   "outputs": [],
   "source": [
    "df.to_csv('/home/mohammad/Desktop/CHIC/main_models_classes/datasets/Expected Growth in EPS - Next 5 years.csv', index=False)  \n"
   ]
  },
  {
   "cell_type": "code",
   "execution_count": 17,
   "metadata": {},
   "outputs": [],
   "source": [
    "def convert_percentage(column):\n",
    "    if df[column].dtype == 'object':  # Check if the column type is 'object' (strings)\n",
    "        df[column] = df[column].str.rstrip('%').astype('float') / 100.0"
   ]
  },
  {
   "cell_type": "code",
   "execution_count": 42,
   "metadata": {},
   "outputs": [
    {
     "data": {
      "text/plain": [
       "((103, 2), (103,))"
      ]
     },
     "execution_count": 42,
     "metadata": {},
     "output_type": "execute_result"
    }
   ],
   "source": [
    "data = pd.read_csv('/home/mohammad/Desktop/CHIC/main_models_classes/datasets/Expected Growth in EPS - Next 5 years.csv') \n",
    "columns = data.columns     \n",
    "feature1 = columns[0]\n",
    "feature2 = columns[1] \n",
    "target = columns[2]   \n",
    "convert_percentage(feature1)\n",
    "convert_percentage(feature2)\n",
    "convert_percentage(target)\n",
    "X = df[[feature1 , feature2]]\n",
    "y = df[target] \n",
    "X.shape, y.shape"
   ]
  },
  {
   "cell_type": "code",
   "execution_count": 55,
   "metadata": {},
   "outputs": [],
   "source": [
    "import pandas as pd\n",
    "from sklearn.model_selection import train_test_split, KFold, cross_val_score\n",
    "from sklearn.linear_model import SGDRegressor\n",
    "from sklearn.pipeline import Pipeline\n",
    "from sklearn.impute import SimpleImputer\n",
    "from sklearn.preprocessing import PolynomialFeatures\n",
    "\n",
    "\n",
    "from sklearn.metrics import mean_squared_error"
   ]
  },
  {
   "cell_type": "code",
   "execution_count": 59,
   "metadata": {},
   "outputs": [
    {
     "name": "stderr",
     "output_type": "stream",
     "text": [
      "/tmp/ipykernel_58065/1317469381.py:7: SettingWithCopyWarning: \n",
      "A value is trying to be set on a copy of a slice from a DataFrame\n",
      "\n",
      "See the caveats in the documentation: https://pandas.pydata.org/pandas-docs/stable/user_guide/indexing.html#returning-a-view-versus-a-copy\n",
      "  X.dropna(inplace=True)\n"
     ]
    }
   ],
   "source": [
    "pipeline = Pipeline(steps=[\n",
    "    ('imputer', SimpleImputer(strategy='mean')),\n",
    "    ('poly', PolynomialFeatures(degree=2, include_bias=False)),  # Create polynomial features of degree 2\n",
    "    ('regressor', SGDRegressor(max_iter=10, tol=1e-3, random_state=42))\n",
    "])   \n",
    "#drop the missing values \n",
    "X.dropna(inplace=True) \n",
    "y.dropna(inplace=True) \n"
   ]
  },
  {
   "cell_type": "code",
   "execution_count": 60,
   "metadata": {},
   "outputs": [
    {
     "name": "stdout",
     "output_type": "stream",
     "text": [
      "Mean MSE (cross-validation): 0.03316973266885691\n",
      "Standard Deviation of MSE (cross-validation): 0.03820592010485108\n",
      "Number of iterations: 7\n",
      "Mean Squared Error on test set: 4.254922722887174\n"
     ]
    }
   ],
   "source": [
    "X_train, X_test, y_train, y_test = train_test_split(X, y, test_size=0.2, random_state=42)\n",
    "\n",
    "# Define K-Folds cross-validator for the training set\n",
    "kf = KFold(n_splits=10, shuffle=True, random_state=42)\n",
    "\n",
    "# Perform cross-validation on the training set\n",
    "scores = cross_val_score(pipeline, X_train, y_train, cv=kf, scoring='neg_mean_squared_error')\n",
    "\n",
    "# Convert negative MSE to positive\n",
    "mse_scores = -scores\n",
    "\n",
    "# Calculate the mean and standard deviation of the MSE scores\n",
    "mean_mse = mse_scores.mean()\n",
    "std_mse = mse_scores.std()\n",
    "\n",
    "print(f'Mean MSE (cross-validation): {mean_mse}')\n",
    "print(f'Standard Deviation of MSE (cross-validation): {std_mse}')\n",
    "\n",
    "# Fit the pipeline on the entire training set and evaluate on the test set\n",
    "pipeline.fit(X_train, y_train)\n",
    "\n",
    "# Check the number of iterations taken by the SGDRegressor to converge\n",
    "iterations = pipeline.named_steps['regressor'].n_iter_\n",
    "print(f'Number of iterations: {iterations}')\n",
    "\n",
    "y_pred = pipeline.predict(X_test)\n",
    "test_mse = mean_squared_error(y_test, y_pred)\n",
    "\n",
    "print(f'Mean Squared Error on test set: {test_mse}')"
   ]
  },
  {
   "cell_type": "markdown",
   "metadata": {},
   "source": []
  }
 ],
 "metadata": {
  "kernelspec": {
   "display_name": ".venv",
   "language": "python",
   "name": "python3"
  },
  "language_info": {
   "codemirror_mode": {
    "name": "ipython",
    "version": 3
   },
   "file_extension": ".py",
   "mimetype": "text/x-python",
   "name": "python",
   "nbconvert_exporter": "python",
   "pygments_lexer": "ipython3",
   "version": "3.8.10"
  }
 },
 "nbformat": 4,
 "nbformat_minor": 2
}
