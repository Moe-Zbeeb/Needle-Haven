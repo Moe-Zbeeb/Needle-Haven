{
 "cells": [
  {
   "cell_type": "code",
   "execution_count": 5,
   "metadata": {},
   "outputs": [],
   "source": [
    "# Import Basis\n",
    "import pandas as pd \n",
    "import optuna\n",
    "import numpy as np \n",
    "import matplotlib.pyplot as plt\n",
    "import plotly.express as px\n",
    "import seaborn as sns \n",
    "from colorama import Fore, Style, init;\n",
    "# Import necessary libraries\n",
    "from IPython.display import display, HTML\n",
    "from scipy.stats import skew  # Import the skew function\n",
    "# Import Plotly.go\n",
    "import plotly.graph_objects as go\n",
    "# import Subplots\n",
    "from plotly.subplots import make_subplots\n",
    "# Ignore warnings\n",
    "import warnings\n",
    "warnings.filterwarnings(\"ignore\")\n",
    "# Model Classifier\n",
    "from sklearn.model_selection import train_test_split\n",
    "from sklearn.ensemble import VotingClassifier, VotingRegressor\n",
    "from sklearn.model_selection import RepeatedStratifiedKFold, cross_val_score\n",
    "from lightgbm import LGBMClassifier\n",
    "from sklearn.preprocessing import LabelEncoder, MinMaxScaler , StandardScaler , QuantileTransformer\n",
    "import lightgbm as lgb\n",
    "from sklearn.model_selection import cross_val_score\n",
    "\n",
    "\n",
    "from sklearn.metrics import *\n",
    "# Paellete\n",
    "# palette = [\"#00B1D2FF\", \"#FDDB27FF\"]\n",
    "palette = [\"#FAD0C9FF\", \"#6E6E6DFF\"]\n",
    "\n",
    "color_palette = sns.color_palette(palette)\n",
    "# Remove Warnings\n",
    "import warnings \n",
    "warnings.filterwarnings(\"ignore\")\n",
    "# Set the option to display all columns\n",
    "pd.set_option('display.max_columns', None)"
   ]
  },
  {
   "cell_type": "code",
   "execution_count": 6,
   "metadata": {},
   "outputs": [],
   "source": [
    "import pandas as pd \n",
    "df = pd.read_csv(\"/home/mohammad/Desktop/CHIC/main_models_classes/datasets/clothes_price_prediction_data.csv\")"
   ]
  },
  {
   "cell_type": "code",
   "execution_count": 7,
   "metadata": {},
   "outputs": [
    {
     "ename": "NameError",
     "evalue": "name 'E_D' is not defined",
     "output_type": "error",
     "traceback": [
      "\u001b[0;31m---------------------------------------------------------------------------\u001b[0m",
      "\u001b[0;31mNameError\u001b[0m                                 Traceback (most recent call last)",
      "Cell \u001b[0;32mIn[7], line 1\u001b[0m\n\u001b[0;32m----> 1\u001b[0m tr_d \u001b[38;5;241m=\u001b[39m \u001b[43mE_D\u001b[49m(tr_d, CAT_COL_E , \u001b[38;5;124m'\u001b[39m\u001b[38;5;124mD\u001b[39m\u001b[38;5;124m'\u001b[39m)\n\u001b[1;32m      2\u001b[0m print_boxed_blue_heading(\u001b[38;5;124m'\u001b[39m\u001b[38;5;124mData is Encoded Successfully\u001b[39m\u001b[38;5;124m'\u001b[39m)\n",
      "\u001b[0;31mNameError\u001b[0m: name 'E_D' is not defined"
     ]
    }
   ],
   "source": [
    "encoder = OrdinalEncoder()\n",
    "cols = ['Brand',\n",
    "'Category',\n",
    "'Color',\n",
    "'Size',\n",
    "'Material']\n",
    "# Reassign to our new encoded records\n",
    "df[cols] = encoder.fit_transform(df[cols])"
   ]
  },
  {
   "cell_type": "code",
   "execution_count": 13,
   "metadata": {},
   "outputs": [],
   "source": [
    "X, y = df.drop(['Price'], axis=1), df.Price\n",
    "X_train, X_test, y_train, y_test = train_test_split(X, y, test_size=0.2, random_state=42)\n"
   ]
  },
  {
   "cell_type": "code",
   "execution_count": 16,
   "metadata": {},
   "outputs": [
    {
     "data": {
      "text/plain": [
       "-0.0068091189857595324"
      ]
     },
     "execution_count": 16,
     "metadata": {},
     "output_type": "execute_result"
    }
   ],
   "source": [
    "model = SVR()\n",
    "\n",
    "model.fit(X_train, y_train)\n",
    "\n",
    "model.score(X_test, y_test)"
   ]
  },
  {
   "cell_type": "code",
   "execution_count": 17,
   "metadata": {},
   "outputs": [
    {
     "data": {
      "text/plain": [
       "['clothes_price_prediction_model.pkl']"
      ]
     },
     "execution_count": 17,
     "metadata": {},
     "output_type": "execute_result"
    }
   ],
   "source": [
    "#save that model in directory\n",
    "import joblib \n",
    "joblib.dump(model, \"clothes_price_prediction_model.pkl\") #save the model     "
   ]
  }
 ],
 "metadata": {
  "kernelspec": {
   "display_name": "Python 3",
   "language": "python",
   "name": "python3"
  },
  "language_info": {
   "codemirror_mode": {
    "name": "ipython",
    "version": 3
   },
   "file_extension": ".py",
   "mimetype": "text/x-python",
   "name": "python",
   "nbconvert_exporter": "python",
   "pygments_lexer": "ipython3",
   "version": "3.8.10"
  }
 },
 "nbformat": 4,
 "nbformat_minor": 2
}
